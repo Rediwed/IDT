{
 "cells": [
  {
   "cell_type": "code",
   "execution_count": 6,
   "metadata": {},
   "outputs": [],
   "source": [
    "from pyspark.sql import SparkSession # Import SparkSession\n",
    "from pyspark.sql.functions import col # Import Columns to convert ColumnType\n",
    "from pyspark.sql.functions import desc # Import Descending to sort in descending manner\n",
    "import time # Import Time function to calculate SparkSession execution duration\n",
    "\n",
    "#Import the 100k row CSV-file \n",
    "spark = SparkSession \\\n",
    "    .builder \\\n",
    "    .appName(\"Read CSV file and aggregate received by coutry\") \\\n",
    "    .getOrCreate()\n",
    "RDD = spark.read.csv('Spreadsheets/Payments.csv',header=True)\n",
    "\n",
    "# Convert StringType columns into IntegerType columns to allow for aggregation\n",
    "RDD = RDD.withColumn(\"Payment_ID\",col(\"Payment_ID\").cast('int'))\n",
    "RDD = RDD.withColumn(\"Received\",col(\"Received\").cast(\"int\"))\n",
    "RDD = RDD.withColumn(\"Payment_date_time\",col(\"Payment_date_time\").cast('date'))\n",
    "RDD = RDD.withColumn(\"Activity_type\",col(\"Activity_type\").cast(\"int\"))\n",
    "\n",
    "#Copy the SparkSession DataFrame\n",
    "RDD2 = RDD"
   ]
  },
  {
   "cell_type": "code",
   "execution_count": 7,
   "metadata": {},
   "outputs": [
    {
     "name": "stdout",
     "output_type": "stream",
     "text": [
      "+--------------------+------------------+\n",
      "|             Country|     avg(Received)|\n",
      "+--------------------+------------------+\n",
      "|             Grenada|5409.6322314049585|\n",
      "|          San Marino| 5409.388888888889|\n",
      "|              Tuvalu| 5397.133709981167|\n",
      "|              Uganda| 5390.805168986083|\n",
      "|              Mexico|  5388.51593625498|\n",
      "|             Myanmar| 5383.053130929791|\n",
      "|             Belarus|  5380.60594059406|\n",
      "|Saint Vincent and...|  5367.74269005848|\n",
      "|         Philippines| 5357.794059405941|\n",
      "|             Eritrea| 5357.704166666666|\n",
      "|               Tonga| 5344.640977443609|\n",
      "|      United Kingdom| 5341.944329896907|\n",
      "|              Brunei|5335.6418511066395|\n",
      "|             Finland| 5331.593810444874|\n",
      "|                Iran|  5314.49387755102|\n",
      "|             Tunisia| 5309.850661625709|\n",
      "|            Ethiopia|          5306.792|\n",
      "|Saint Kitts and N...| 5302.995824634656|\n",
      "|              Rwanda| 5302.284294234592|\n",
      "|          Luxembourg|5289.8292181069955|\n",
      "+--------------------+------------------+\n",
      "only showing top 20 rows\n",
      "\n",
      "--- 0.3795919418334961 seconds ---\n",
      "\n"
     ]
    }
   ],
   "source": [
    "# First Data Analysis task: calculate the average received payment for each county\n",
    "start_time = time.time() # Sets start-time\n",
    "RDD = RDD.groupBy('Country').avg('Received')\n",
    "RDD.orderBy(desc('avg(Received)')).show()\n",
    "print(\"--- %s seconds ---\" % (time.time() - start_time)) # Calculates total duration\n",
    "print()"
   ]
  },
  {
   "cell_type": "code",
   "execution_count": 8,
   "metadata": {},
   "outputs": [
    {
     "name": "stdout",
     "output_type": "stream",
     "text": [
      "+-----------+-----+\n",
      "|    Country|count|\n",
      "+-----------+-----+\n",
      "|    Ecuador|  569|\n",
      "|    Comoros|  566|\n",
      "|     Latvia|  560|\n",
      "|   Slovakia|  558|\n",
      "|Saint Lucia|  557|\n",
      "|     Turkey|  555|\n",
      "|   Dominica|  554|\n",
      "|      Nauru|  551|\n",
      "|     Angola|  550|\n",
      "|    Andorra|  549|\n",
      "|   Pakistan|  548|\n",
      "|     Greece|  548|\n",
      "|       Mali|  548|\n",
      "|     France|  548|\n",
      "|Afghanistan|  546|\n",
      "|    Vanuatu|  542|\n",
      "|      Qatar|  541|\n",
      "|  Macedonia|  540|\n",
      "|   Barbados|  539|\n",
      "|   Cambodia|  539|\n",
      "+-----------+-----+\n",
      "only showing top 20 rows\n",
      "\n",
      "--- 0.3567471504211426 seconds ---\n"
     ]
    }
   ],
   "source": [
    "# Second Data Analysis task: Count N payments for each county\n",
    "start_time = time.time() # Sets start-time\n",
    "RDD2 = RDD2.groupBy('Country').count()\n",
    "RDD2.orderBy(desc('count')).show() # Calculates total duration\n",
    "print(\"--- %s seconds ---\" % (time.time() - start_time))"
   ]
  }
 ],
 "metadata": {
  "kernelspec": {
   "display_name": "Python 3",
   "language": "python",
   "name": "python3"
  },
  "language_info": {
   "codemirror_mode": {
    "name": "ipython",
    "version": 3
   },
   "file_extension": ".py",
   "mimetype": "text/x-python",
   "name": "python",
   "nbconvert_exporter": "python",
   "pygments_lexer": "ipython3",
   "version": "3.8.5"
  }
 },
 "nbformat": 4,
 "nbformat_minor": 4
}
